{
 "cells": [
  {
   "cell_type": "code",
   "execution_count": 1,
   "metadata": {},
   "outputs": [],
   "source": [
    "from bs4 import BeautifulSoup\n",
    "import pandas as pd\n",
    "import re\n",
    "\n",
    "from selenium import webdriver\n",
    "from selenium.webdriver.common.keys import Keys\n",
    "import time"
   ]
  },
  {
   "cell_type": "code",
   "execution_count": 2,
   "metadata": {},
   "outputs": [],
   "source": [
    "df = pd.read_csv(\"./payday_Lender_Loc.csv\")"
   ]
  },
  {
   "cell_type": "code",
   "execution_count": 3,
   "metadata": {},
   "outputs": [],
   "source": [
    "data = []"
   ]
  },
  {
   "cell_type": "code",
   "execution_count": 4,
   "metadata": {},
   "outputs": [],
   "source": [
    "pattern = re.compile(r'-\\D')\n",
    "for addr in df.address:\n",
    "    info = addr\n",
    "    if pattern.findall(addr):\n",
    "        line = addr.split('-')\n",
    "        info = line[0]\n",
    "    df.address[df.address == addr] = info"
   ]
  },
  {
   "cell_type": "code",
   "execution_count": 5,
   "metadata": {},
   "outputs": [],
   "source": [
    "# Create a webdriver for the purpose of determining the geolocation of the addresses\n",
    "driver = webdriver.Chrome()\n",
    "driver.get(\"https://gps-coordinates.org/\")"
   ]
  },
  {
   "cell_type": "code",
   "execution_count": 6,
   "metadata": {},
   "outputs": [],
   "source": [
    "isRefreshTime = 0\n",
    "inputBox = driver.find_element_by_xpath(\"//*[@id='address']\")"
   ]
  },
  {
   "cell_type": "code",
   "execution_count": 7,
   "metadata": {},
   "outputs": [],
   "source": [
    "for _,row in df.iterrows():\n",
    "    addr = row.address\n",
    "    \n",
    "    # Prevent website freezing \n",
    "    if isRefreshTime == 15:\n",
    "        driver.refresh()\n",
    "        time.sleep(1)\n",
    "        \n",
    "        # Find the input box \n",
    "        inputBox = driver.find_element_by_xpath(\"//*[@id='address']\")\n",
    "        inputBox.clear()\n",
    "        \n",
    "        # Reset the timer\n",
    "        isRefreshTime = 0\n",
    "    \n",
    "    # Find the search button\n",
    "    findBtn = driver.find_element_by_xpath(\"//*[@id='btnGetGpsCoordinates']\")\n",
    "    \n",
    "    # Input the address into the input textfield\n",
    "    inputBox.send_keys(addr)\n",
    "    findBtn.click()\n",
    "    \n",
    "    # Wait for the AJAX to process and finish finding the geolocation\n",
    "    time.sleep(3)\n",
    "    \n",
    "    # Locate the longitude and latitude tags and get their values\n",
    "    lat = driver.find_element_by_xpath(\"//*[@id='latitude']\")\n",
    "    lng = driver.find_element_by_xpath(\"//*[@id='longitude']\")\n",
    "    \n",
    "    # Put the latitude and longitude into the list\n",
    "    data.append((row.lender, addr, lat.get_attribute(\"value\"), lng.get_attribute(\"value\")))\n",
    "    \n",
    "    inputBox.clear()\n",
    "    isRefreshTime += 1"
   ]
  },
  {
   "cell_type": "code",
   "execution_count": 13,
   "metadata": {},
   "outputs": [],
   "source": [
    "LatLongDf = pd.DataFrame(data, columns = ['Lender', 'Address', 'Latitude', 'Longitude'])"
   ]
  },
  {
   "cell_type": "code",
   "execution_count": 14,
   "metadata": {},
   "outputs": [],
   "source": [
    "LatLongDf.to_csv('Payday_Lender_LATLONG.csv', index=False, encoding='utf-8')"
   ]
  }
 ],
 "metadata": {
  "kernelspec": {
   "display_name": "Python 3",
   "language": "python",
   "name": "python3"
  },
  "language_info": {
   "codemirror_mode": {
    "name": "ipython",
    "version": 3
   },
   "file_extension": ".py",
   "mimetype": "text/x-python",
   "name": "python",
   "nbconvert_exporter": "python",
   "pygments_lexer": "ipython3",
   "version": "3.6.5"
  }
 },
 "nbformat": 4,
 "nbformat_minor": 2
}
