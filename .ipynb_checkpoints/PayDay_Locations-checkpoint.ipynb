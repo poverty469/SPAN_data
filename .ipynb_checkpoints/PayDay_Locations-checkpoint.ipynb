{
 "cells": [
  {
   "cell_type": "code",
   "execution_count": 1,
   "metadata": {},
   "outputs": [],
   "source": [
    "from bs4 import BeautifulSoup\n",
    "import pandas as pd\n",
    "import requests\n",
    "from selenium import webdriver\n",
    "from selenium.webdriver.common.keys import Keys\n",
    "import time"
   ]
  },
  {
   "cell_type": "code",
   "execution_count": 2,
   "metadata": {},
   "outputs": [],
   "source": [
    "data = []"
   ]
  },
  {
   "cell_type": "code",
   "execution_count": 3,
   "metadata": {},
   "outputs": [],
   "source": [
    "# Collect and store all the lender bullets.\n",
    "url = \"https://www.finder.com/payday-loans/washington\"\n",
    "page = requests.get(url)\n",
    "soup = BeautifulSoup(page.text, 'lxml')\n",
    "table = soup.find_all(\"li\")"
   ]
  },
  {
   "cell_type": "code",
   "execution_count": 4,
   "metadata": {},
   "outputs": [],
   "source": [
    "# Create a webdriver for the purpose of determining the geolocation of the addresses\n",
    "driver = webdriver.Chrome()\n",
    "driver.get(\"https://www.mapdevelopers.com/geocode_tool.php\")"
   ]
  },
  {
   "cell_type": "code",
   "execution_count": 5,
   "metadata": {},
   "outputs": [],
   "source": [
    "# Understand where the applicable data begins and ends.\n",
    "table[137]\n",
    "table[727]\n",
    "\n",
    "# Remove misc data.\n",
    "liTag = table[137:727]"
   ]
  },
  {
   "cell_type": "code",
   "execution_count": 6,
   "metadata": {},
   "outputs": [],
   "source": [
    "findBtn = driver.find_element_by_xpath(\"//*[@id='search-form']/div[1]/span[2]/button\")\n",
    "inputBox = driver.find_element_by_xpath(\"//*[@id='address']\")"
   ]
  },
  {
   "cell_type": "code",
   "execution_count": 7,
   "metadata": {},
   "outputs": [],
   "source": [
    "# Locate and store lender name, address, and telephone if it exists.\n",
    "for tag in liTag:\n",
    "    line = tag.text\n",
    "    info = line.split(\" – \")\n",
    "    \n",
    "    # Input the address into the input textfield\n",
    "    inputBox.send_keys(info[1])\n",
    "    findBtn.click()\n",
    "    \n",
    "    # Locate the longitude and latitude tags and get their values\n",
    "    lat = driver.find_element_by_xpath(\"//*[@id='display_lat']\")\n",
    "    lng = driver.find_element_by_xpath(\"//*[@id='display_lng']\")\n",
    "    \n",
    "    time.sleep(3)\n",
    "    \n",
    "    data.append((info[0], info[1], lat.text, lng.text))\n",
    "    inputBox.clear()"
   ]
  },
  {
   "cell_type": "code",
   "execution_count": 8,
   "metadata": {},
   "outputs": [],
   "source": [
    "# Create data frame showing the links, recipe names, and ingredients\n",
    "df = pd.DataFrame(data, columns=['lender', 'address', 'latitude', 'longitude'])"
   ]
  },
  {
   "cell_type": "code",
   "execution_count": 9,
   "metadata": {},
   "outputs": [
    {
     "data": {
      "text/html": [
       "<div>\n",
       "<style scoped>\n",
       "    .dataframe tbody tr th:only-of-type {\n",
       "        vertical-align: middle;\n",
       "    }\n",
       "\n",
       "    .dataframe tbody tr th {\n",
       "        vertical-align: top;\n",
       "    }\n",
       "\n",
       "    .dataframe thead th {\n",
       "        text-align: right;\n",
       "    }\n",
       "</style>\n",
       "<table border=\"1\" class=\"dataframe\">\n",
       "  <thead>\n",
       "    <tr style=\"text-align: right;\">\n",
       "      <th></th>\n",
       "      <th>lender</th>\n",
       "      <th>address</th>\n",
       "      <th>latitude</th>\n",
       "      <th>longitude</th>\n",
       "    </tr>\n",
       "  </thead>\n",
       "  <tbody>\n",
       "    <tr>\n",
       "      <th>0</th>\n",
       "      <td>Ace Cash Express</td>\n",
       "      <td>810 E Wishkah St Aberdeen WA, 98520</td>\n",
       "      <td>46.9773044</td>\n",
       "      <td>-123.8080676</td>\n",
       "    </tr>\n",
       "    <tr>\n",
       "      <th>1</th>\n",
       "      <td>Advance America Cash Advance</td>\n",
       "      <td>1029 East Wishkah Street Suite B Aberdeen WA, ...</td>\n",
       "      <td>46.9766184</td>\n",
       "      <td>-123.8048159</td>\n",
       "    </tr>\n",
       "    <tr>\n",
       "      <th>2</th>\n",
       "      <td>Advance Cash</td>\n",
       "      <td>209 East Wishkah Street Aberdeen WA, 98520</td>\n",
       "      <td>46.974909</td>\n",
       "      <td>-123.8164357</td>\n",
       "    </tr>\n",
       "    <tr>\n",
       "      <th>3</th>\n",
       "      <td>Harbor Adjustment Company</td>\n",
       "      <td>316 West Heron Street Aberdeen WA, 98520</td>\n",
       "      <td>46.9718288</td>\n",
       "      <td>-123.820411</td>\n",
       "    </tr>\n",
       "    <tr>\n",
       "      <th>4</th>\n",
       "      <td>Paycheck</td>\n",
       "      <td>716 West Market Street Aberdeen WA, 98520</td>\n",
       "      <td>46.9710561</td>\n",
       "      <td>-123.8267774</td>\n",
       "    </tr>\n",
       "  </tbody>\n",
       "</table>\n",
       "</div>"
      ],
      "text/plain": [
       "                         lender  \\\n",
       "0              Ace Cash Express   \n",
       "1  Advance America Cash Advance   \n",
       "2                  Advance Cash   \n",
       "3     Harbor Adjustment Company   \n",
       "4                      Paycheck   \n",
       "\n",
       "                                             address    latitude     longitude  \n",
       "0                810 E Wishkah St Aberdeen WA, 98520  46.9773044  -123.8080676  \n",
       "1  1029 East Wishkah Street Suite B Aberdeen WA, ...  46.9766184  -123.8048159  \n",
       "2         209 East Wishkah Street Aberdeen WA, 98520   46.974909  -123.8164357  \n",
       "3           316 West Heron Street Aberdeen WA, 98520  46.9718288   -123.820411  \n",
       "4          716 West Market Street Aberdeen WA, 98520  46.9710561  -123.8267774  "
      ]
     },
     "execution_count": 9,
     "metadata": {},
     "output_type": "execute_result"
    }
   ],
   "source": [
    "df.head(5)"
   ]
  },
  {
   "cell_type": "code",
   "execution_count": 10,
   "metadata": {},
   "outputs": [],
   "source": [
    "df.to_csv('payday_Lender_Loc.csv', index=False, encoding='utf-8')"
   ]
  }
 ],
 "metadata": {
  "kernelspec": {
   "display_name": "Python 3",
   "language": "python",
   "name": "python3"
  },
  "language_info": {
   "codemirror_mode": {
    "name": "ipython",
    "version": 3
   },
   "file_extension": ".py",
   "mimetype": "text/x-python",
   "name": "python",
   "nbconvert_exporter": "python",
   "pygments_lexer": "ipython3",
   "version": "3.6.5"
  }
 },
 "nbformat": 4,
 "nbformat_minor": 2
}
