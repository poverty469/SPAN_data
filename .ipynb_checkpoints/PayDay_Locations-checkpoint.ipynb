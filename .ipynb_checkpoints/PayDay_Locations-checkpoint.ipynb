{
 "cells": [
  {
   "cell_type": "code",
   "execution_count": 1,
   "metadata": {},
   "outputs": [],
   "source": [
    "from bs4 import BeautifulSoup\n",
    "import pandas as pd\n",
    "import requests"
   ]
  },
  {
   "cell_type": "code",
   "execution_count": 2,
   "metadata": {},
   "outputs": [],
   "source": [
    "data = []"
   ]
  },
  {
   "cell_type": "code",
   "execution_count": 3,
   "metadata": {},
   "outputs": [],
   "source": [
    "# Collect and store all the lender bullets.\n",
    "url = \"https://www.finder.com/payday-loans/washington\"\n",
    "page = requests.get(url)\n",
    "soup = BeautifulSoup(page.text, 'lxml')\n",
    "table = soup.find_all(\"li\")"
   ]
  },
  {
   "cell_type": "code",
   "execution_count": 4,
   "metadata": {},
   "outputs": [
    {
     "data": {
      "text/plain": [
       "<li><strong>Yccs</strong> – Po Box 9244 Yakima WA, 98909 – Tel: (509)-248-1610</li>"
      ]
     },
     "execution_count": 4,
     "metadata": {},
     "output_type": "execute_result"
    }
   ],
   "source": [
    "# Under where there applicable data begins and ends.\n",
    "table[137]\n",
    "table[727]"
   ]
  },
  {
   "cell_type": "code",
   "execution_count": 5,
   "metadata": {},
   "outputs": [],
   "source": [
    "# Remove misc data.\n",
    "liTag = table[137:727]"
   ]
  },
  {
   "cell_type": "code",
   "execution_count": 6,
   "metadata": {},
   "outputs": [],
   "source": [
    "# Locate and store lender name, address, and telephone if it exists.\n",
    "for tag in liTag:\n",
    "    line = tag.text\n",
    "    info = line.split(\" – \")\n",
    "    if len(info) != 2: \n",
    "        tel = info[2][5:]\n",
    "        data.append((info[0], info[1], tel))\n",
    "    else:  \n",
    "        data.append((info[0], info[1]))"
   ]
  },
  {
   "cell_type": "code",
   "execution_count": 8,
   "metadata": {},
   "outputs": [
    {
     "data": {
      "text/plain": [
       "[('Ace Cash Express', '810 E Wishkah St Aberdeen WA, 98520', '(360)-533-9934'),\n",
       " ('Advance America Cash Advance',\n",
       "  '1029 East Wishkah Street Suite B Aberdeen WA, 98520',\n",
       "  '(360)-532-9999'),\n",
       " ('Advance Cash',\n",
       "  '209 East Wishkah Street Aberdeen WA, 98520',\n",
       "  '(360)-532-6931'),\n",
       " ('Harbor Adjustment Company',\n",
       "  '316 West Heron Street Aberdeen WA, 98520',\n",
       "  '(360)-532-0770'),\n",
       " ('Paycheck', '716 West Market Street Aberdeen WA, 98520', '(360)-537-5676')]"
      ]
     },
     "execution_count": 8,
     "metadata": {},
     "output_type": "execute_result"
    }
   ],
   "source": [
    "data[:5]"
   ]
  },
  {
   "cell_type": "code",
   "execution_count": 11,
   "metadata": {},
   "outputs": [],
   "source": [
    "# Create data frame showing the links, recipe names, and ingredients\n",
    "df = pd.DataFrame(data, columns=['lender', 'address', 'Telephone'])"
   ]
  },
  {
   "cell_type": "code",
   "execution_count": 12,
   "metadata": {},
   "outputs": [
    {
     "data": {
      "text/html": [
       "<div>\n",
       "<style scoped>\n",
       "    .dataframe tbody tr th:only-of-type {\n",
       "        vertical-align: middle;\n",
       "    }\n",
       "\n",
       "    .dataframe tbody tr th {\n",
       "        vertical-align: top;\n",
       "    }\n",
       "\n",
       "    .dataframe thead th {\n",
       "        text-align: right;\n",
       "    }\n",
       "</style>\n",
       "<table border=\"1\" class=\"dataframe\">\n",
       "  <thead>\n",
       "    <tr style=\"text-align: right;\">\n",
       "      <th></th>\n",
       "      <th>lender</th>\n",
       "      <th>address</th>\n",
       "      <th>Telephone</th>\n",
       "    </tr>\n",
       "  </thead>\n",
       "  <tbody>\n",
       "    <tr>\n",
       "      <th>0</th>\n",
       "      <td>Ace Cash Express</td>\n",
       "      <td>810 E Wishkah St Aberdeen WA, 98520</td>\n",
       "      <td>(360)-533-9934</td>\n",
       "    </tr>\n",
       "    <tr>\n",
       "      <th>1</th>\n",
       "      <td>Advance America Cash Advance</td>\n",
       "      <td>1029 East Wishkah Street Suite B Aberdeen WA, ...</td>\n",
       "      <td>(360)-532-9999</td>\n",
       "    </tr>\n",
       "    <tr>\n",
       "      <th>2</th>\n",
       "      <td>Advance Cash</td>\n",
       "      <td>209 East Wishkah Street Aberdeen WA, 98520</td>\n",
       "      <td>(360)-532-6931</td>\n",
       "    </tr>\n",
       "    <tr>\n",
       "      <th>3</th>\n",
       "      <td>Harbor Adjustment Company</td>\n",
       "      <td>316 West Heron Street Aberdeen WA, 98520</td>\n",
       "      <td>(360)-532-0770</td>\n",
       "    </tr>\n",
       "    <tr>\n",
       "      <th>4</th>\n",
       "      <td>Paycheck</td>\n",
       "      <td>716 West Market Street Aberdeen WA, 98520</td>\n",
       "      <td>(360)-537-5676</td>\n",
       "    </tr>\n",
       "  </tbody>\n",
       "</table>\n",
       "</div>"
      ],
      "text/plain": [
       "                         lender  \\\n",
       "0              Ace Cash Express   \n",
       "1  Advance America Cash Advance   \n",
       "2                  Advance Cash   \n",
       "3     Harbor Adjustment Company   \n",
       "4                      Paycheck   \n",
       "\n",
       "                                             address       Telephone  \n",
       "0                810 E Wishkah St Aberdeen WA, 98520  (360)-533-9934  \n",
       "1  1029 East Wishkah Street Suite B Aberdeen WA, ...  (360)-532-9999  \n",
       "2         209 East Wishkah Street Aberdeen WA, 98520  (360)-532-6931  \n",
       "3           316 West Heron Street Aberdeen WA, 98520  (360)-532-0770  \n",
       "4          716 West Market Street Aberdeen WA, 98520  (360)-537-5676  "
      ]
     },
     "execution_count": 12,
     "metadata": {},
     "output_type": "execute_result"
    }
   ],
   "source": [
    "df.head(5)"
   ]
  },
  {
   "cell_type": "code",
   "execution_count": 158,
   "metadata": {},
   "outputs": [],
   "source": [
    "df.to_csv('payday_Lender_Loc.csv', index=False, encoding='utf-8')"
   ]
  }
 ],
 "metadata": {
  "kernelspec": {
   "display_name": "Python 3",
   "language": "python",
   "name": "python3"
  },
  "language_info": {
   "codemirror_mode": {
    "name": "ipython",
    "version": 3
   },
   "file_extension": ".py",
   "mimetype": "text/x-python",
   "name": "python",
   "nbconvert_exporter": "python",
   "pygments_lexer": "ipython3",
   "version": "3.6.5"
  }
 },
 "nbformat": 4,
 "nbformat_minor": 2
}
